{
  "nbformat": 4,
  "nbformat_minor": 0,
  "metadata": {
    "colab": {
      "name": "Untitled0.ipynb",
      "provenance": [],
      "collapsed_sections": [],
      "toc_visible": true,
      "history_visible": true,
      "authorship_tag": "ABX9TyOM8lNmM1aPwG5zeL5CynW2",
      "include_colab_link": true
    },
    "kernelspec": {
      "name": "python3",
      "display_name": "Python 3"
    },
    "language_info": {
      "name": "python"
    },
    "accelerator": "GPU"
  },
  "cells": [
    {
      "cell_type": "markdown",
      "metadata": {
        "id": "view-in-github",
        "colab_type": "text"
      },
      "source": [
        "<a href=\"https://colab.research.google.com/github/akram404/Cryptocurrency-Analysis-using-RNN/blob/main/Untitled0.ipynb\" target=\"_parent\"><img src=\"https://colab.research.google.com/assets/colab-badge.svg\" alt=\"Open In Colab\"/></a>"
      ]
    },
    {
      "cell_type": "code",
      "metadata": {
        "id": "JZTsOiIEm5zC"
      },
      "source": [
        "import tensorflow as tf\n",
        "import pandas as pd\n",
        "import numpy as np\n",
        "from tensorflow.keras.models import Sequential\n",
        "from tensorflow.keras.layers import Dense, Dropout, LSTM\n",
        "from sklearn.preprocessing import MinMaxScaler\n",
        "import matplotlib.pyplot as plt\n"
      ],
      "execution_count": 2,
      "outputs": []
    },
    {
      "cell_type": "code",
      "metadata": {
        "id": "bq81ZJ1Om9iB"
      },
      "source": [
        "\n",
        "data = []\n",
        "for x in range(1, 10000) :\n",
        "    data.append(x)\n",
        "\n",
        "data = np.array(data).reshape(-1, 1)\n",
        "\n",
        "scaler = MinMaxScaler(feature_range=(0, 1))\n",
        "scaled_data = scaler.fit_transform(data)\n",
        "scaled_data.shape\n",
        "\n",
        "sequence = 10\n",
        "prediction = 10\n",
        "\n",
        "x_train = []\n",
        "y_train = []\n",
        "s = []\n",
        "\n",
        "for x in range(sequence, len(scaled_data)-10):\n",
        "    x_train.append(scaled_data[x-sequence:x, 0])\n",
        "    for z in range(10):\n",
        "      s.append(scaled_data[x+z, 0])\n",
        "    y_train.append(s)\n",
        "    s = []\n",
        "\n",
        "x_train, y_train = np.array(x_train), np.array(y_train)\n",
        "x_train = np.reshape(x_train, (x_train.shape[0], x_train.shape[1], 1))\n",
        "\n",
        "x_test = x_train[9000:9949].astype(np.float32)\n",
        "y_test = y_train[9000:9949]\n",
        "x_train = x_train[0:9000].astype(np.float32)\n",
        "y_train = y_train[0:9000]\n",
        "\n"
      ],
      "execution_count": 80,
      "outputs": []
    },
    {
      "cell_type": "code",
      "metadata": {
        "colab": {
          "base_uri": "https://localhost:8080/"
        },
        "id": "ucLbxBvwrcUl",
        "outputId": "d9378090-51cb-4254-aeda-05e604acd739"
      },
      "source": [
        "x_train.shape"
      ],
      "execution_count": 18,
      "outputs": [
        {
          "output_type": "execute_result",
          "data": {
            "text/plain": [
              "(9000, 10, 1)"
            ]
          },
          "metadata": {},
          "execution_count": 18
        }
      ]
    },
    {
      "cell_type": "code",
      "metadata": {
        "id": "a2DnTXXytZaB"
      },
      "source": [
        "y_train = scaler.inverse_transform(y_train)"
      ],
      "execution_count": 44,
      "outputs": []
    },
    {
      "cell_type": "code",
      "metadata": {
        "colab": {
          "base_uri": "https://localhost:8080/"
        },
        "id": "6YWeRaZCsvWQ",
        "outputId": "37931be0-f39c-4fc9-fd1c-a450bac69e89"
      },
      "source": [
        "y_train.shape"
      ],
      "execution_count": 47,
      "outputs": [
        {
          "output_type": "execute_result",
          "data": {
            "text/plain": [
              "(9979, 10)"
            ]
          },
          "metadata": {},
          "execution_count": 47
        }
      ]
    },
    {
      "cell_type": "code",
      "metadata": {
        "colab": {
          "base_uri": "https://localhost:8080/"
        },
        "id": "0iKAoDy1ngU1",
        "outputId": "b11b1b50-b88f-4cfe-a1ac-e10fd6a17e1c"
      },
      "source": [
        "# creating model\n",
        "model = Sequential()\n",
        "\n",
        "model.add(LSTM(units=50, return_sequences=True, input_shape=(x_train.shape[1], 1)))\n",
        "model.add(Dropout(0.2))\n",
        "\n",
        "model.add(LSTM(units=100, return_sequences=True))\n",
        "model.add(Dropout(0.2))\n",
        "\n",
        "\n",
        "model.add(LSTM(units=50))\n",
        "model.add(Dropout(0.2))\n",
        "\n",
        "model.add(Dense(10))\n",
        "\n",
        "opt = tf.keras.optimizers.Adam(lr=0.001, decay=1e-6)\n",
        "\n"
      ],
      "execution_count": 48,
      "outputs": [
        {
          "output_type": "stream",
          "text": [
            "/usr/local/lib/python3.7/dist-packages/keras/optimizer_v2/optimizer_v2.py:356: UserWarning: The `lr` argument is deprecated, use `learning_rate` instead.\n",
            "  \"The `lr` argument is deprecated, use `learning_rate` instead.\")\n"
          ],
          "name": "stderr"
        }
      ]
    },
    {
      "cell_type": "code",
      "metadata": {
        "id": "zqII2_CanjOk"
      },
      "source": [
        "\n",
        "model.compile(optimizer=opt, loss='mean_squared_error', metrics=['accuracy'])\n",
        "history = model.fit(x_train, y_train, epochs=30, batch_size=32, validation_data=(x_test, y_test))\n",
        "\n",
        "\n"
      ],
      "execution_count": null,
      "outputs": []
    },
    {
      "cell_type": "code",
      "metadata": {
        "colab": {
          "base_uri": "https://localhost:8080/",
          "height": 279
        },
        "id": "AyTuxgjanrnV",
        "outputId": "e3babba1-ba26-4391-b95f-17af89d084c8"
      },
      "source": [
        "# predicting and plotting data\n",
        "prediction_prices = model.predict(x_test[:1])\n",
        "prediction_prices = scaler.inverse_transform(prediction_prices)\n",
        "# y_test = scaler.inverse_transform(y_test)\n",
        "\n",
        "plt.plot(y_test[0], color='red', label='Actual Prices')\n",
        "plt.plot(prediction_prices[0, :], color='yellow', label='Prediction Prices')\n",
        "# plt.plot(y_train, color='green', label='y_train')\n",
        "\n",
        "plt.xlabel(\"Time\")\n",
        "plt.ylabel(\"Price\")\n",
        "plt.legend(loc=\"upper left\")\n",
        "plt.show()"
      ],
      "execution_count": 90,
      "outputs": [
        {
          "output_type": "display_data",
          "data": {
            "image/png": "[encoded data removed]",
            "text/plain": [
              "<Figure size 432x288 with 1 Axes>"
            ]
          },
          "metadata": {
            "needs_background": "light"
          }
        }
      ]
    },
    {
      "cell_type": "code",
      "metadata": {
        "colab": {
          "base_uri": "https://localhost:8080/",
          "height": 279
        },
        "id": "GxzEmdzCyim4",
        "outputId": "76eec30b-9915-4086-b9f0-4d774cb342e2"
      },
      "source": [
        "# predicting and plotting data\n",
        "prediction_prices = model.predict(x_test)\n",
        "prediction_prices = scaler.inverse_transform(prediction_prices)\n",
        "# y_test = scaler.inverse_transform(y_test)\n",
        "\n",
        "plt.plot(y_test, color='red', label='Actual Prices')\n",
        "plt.plot(prediction_prices, color='yellow', label='Prediction Prices')\n",
        "# plt.plot(y_train, color='green', label='y_train')\n",
        "\n",
        "plt.xlabel(\"Time\")\n",
        "plt.ylabel(\"Price\")\n",
        "# plt.legend(loc=\"upper left\")\n",
        "plt.show()"
      ],
      "execution_count": 95,
      "outputs": [
        {
          "output_type": "display_data",
          "data": {
            "image/png": "[encoded data removed]",
            "text/plain": [
              "<Figure size 432x288 with 1 Axes>"
            ]
          },
          "metadata": {
            "needs_background": "light"
          }
        }
      ]
    },
    {
      "cell_type": "code",
      "metadata": {
        "colab": {
          "base_uri": "https://localhost:8080/"
        },
        "id": "A3ScXM5tyuv_",
        "outputId": "a1efd197-c727-4440-ab1c-a93459edaa73"
      },
      "source": [
        "prediction_prices"
      ],
      "execution_count": 92,
      "outputs": [
        {
          "output_type": "execute_result",
          "data": {
            "text/plain": [
              "array([[8843.375 , 8843.164 , 8841.926 , ..., 8849.888 , 8848.676 ,\n",
              "        8852.171 ],\n",
              "       [8844.318 , 8844.107 , 8842.869 , ..., 8850.832 , 8849.618 ,\n",
              "        8853.115 ],\n",
              "       [8845.264 , 8845.052 , 8843.8125, ..., 8851.776 , 8850.562 ,\n",
              "        8854.06  ],\n",
              "       ...,\n",
              "       [9722.151 , 9721.665 , 9719.723 , ..., 9728.59  , 9726.613 ,\n",
              "        9730.931 ],\n",
              "       [9723.063 , 9722.575 , 9720.634 , ..., 9729.501 , 9727.526 ,\n",
              "        9731.844 ],\n",
              "       [9723.976 , 9723.488 , 9721.546 , ..., 9730.414 , 9728.437 ,\n",
              "        9732.757 ]], dtype=float32)"
            ]
          },
          "metadata": {},
          "execution_count": 92
        }
      ]
    },
    {
      "cell_type": "code",
      "metadata": {
        "id": "sGSicEYG00Vy"
      },
      "source": [
        ""
      ],
      "execution_count": null,
      "outputs": []
    }
  ]
}