{
  "nbformat": 4,
  "nbformat_minor": 0,
  "metadata": {
    "colab": {
      "name": "Untitled0.ipynb",
      "provenance": [],
      "collapsed_sections": [],
      "toc_visible": true,
      "history_visible": true,
      "authorship_tag": "ABX9TyNUIvVkBZ54jKtdpKjmlnfF",
      "include_colab_link": true
    },
    "kernelspec": {
      "name": "python3",
      "display_name": "Python 3"
    },
    "language_info": {
      "name": "python"
    },
    "accelerator": "GPU"
  },
  "cells": [
    {
      "cell_type": "markdown",
      "metadata": {
        "id": "view-in-github",
        "colab_type": "text"
      },
      "source": [
        "<a href=\"https://colab.research.google.com/github/akram404/Cryptocurrency-Analysis-using-RNN/blob/main/Untitled0.ipynb\" target=\"_parent\"><img src=\"https://colab.research.google.com/assets/colab-badge.svg\" alt=\"Open In Colab\"/></a>"
      ]
    },
    {
      "cell_type": "code",
      "metadata": {
        "id": "JZTsOiIEm5zC"
      },
      "source": [
        "import tensorflow as tf\n",
        "import pandas as pd\n",
        "import numpy as np\n",
        "from tensorflow.keras.models import Sequential\n",
        "from tensorflow.keras.layers import Dense, Dropout, LSTM\n",
        "from sklearn.preprocessing import MinMaxScaler\n",
        "import matplotlib.pyplot as plt\n"
      ],
      "execution_count": 2,
      "outputs": []
    },
    {
      "cell_type": "code",
      "metadata": {
        "id": "bq81ZJ1Om9iB"
      },
      "source": [
        "\n",
        "data = []\n",
        "for x in range(1, 10000) :\n",
        "    data.append(x)\n",
        "\n",
        "data = np.array(data).reshape(-1, 1)\n",
        "\n",
        "scaler = MinMaxScaler(feature_range=(0, 1))\n",
        "scaled_data = scaler.fit_transform(data)\n",
        "scaled_data.shape\n",
        "\n",
        "sequence = 10\n",
        "prediction = 10\n",
        "\n",
        "x_train = []\n",
        "y_train = []\n",
        "s = []\n",
        "\n",
        "for x in range(sequence, len(scaled_data)-10):\n",
        "    x_train.append(scaled_data[x-sequence:x, 0])\n",
        "    for z in range(10):\n",
        "      s.append(scaled_data[x+z, 0])\n",
        "    y_train.append(s)\n",
        "    s = []\n",
        "\n",
        "x_train, y_train = np.array(x_train), np.array(y_train)\n",
        "x_train = np.reshape(x_train, (x_train.shape[0], x_train.shape[1], 1))\n",
        "\n",
        "x_test = x_train[9000:9949].astype(np.float32)\n",
        "y_test = y_train[9000:9949]\n",
        "x_train = x_train[0:9000].astype(np.float32)\n",
        "y_train = y_train[0:9000]\n",
        "\n"
      ],
      "execution_count": 80,
      "outputs": []
    },
    {
      "cell_type": "code",
      "metadata": {
        "colab": {
          "base_uri": "https://localhost:8080/"
        },
        "id": "ucLbxBvwrcUl",
        "outputId": "d9378090-51cb-4254-aeda-05e604acd739"
      },
      "source": [
        "x_train.shape"
      ],
      "execution_count": 18,
      "outputs": [
        {
          "output_type": "execute_result",
          "data": {
            "text/plain": [
              "(9000, 10, 1)"
            ]
          },
          "metadata": {},
          "execution_count": 18
        }
      ]
    },
    {
      "cell_type": "code",
      "metadata": {
        "id": "a2DnTXXytZaB"
      },
      "source": [
        "y_train = scaler.inverse_transform(y_train)"
      ],
      "execution_count": 44,
      "outputs": []
    },
    {
      "cell_type": "code",
      "metadata": {
        "colab": {
          "base_uri": "https://localhost:8080/"
        },
        "id": "6YWeRaZCsvWQ",
        "outputId": "37931be0-f39c-4fc9-fd1c-a450bac69e89"
      },
      "source": [
        "y_train.shape"
      ],
      "execution_count": 47,
      "outputs": [
        {
          "output_type": "execute_result",
          "data": {
            "text/plain": [
              "(9979, 10)"
            ]
          },
          "metadata": {},
          "execution_count": 47
        }
      ]
    },
    {
      "cell_type": "code",
      "metadata": {
        "colab": {
          "base_uri": "https://localhost:8080/"
        },
        "id": "0iKAoDy1ngU1",
        "outputId": "b11b1b50-b88f-4cfe-a1ac-e10fd6a17e1c"
      },
      "source": [
        "# creating model\n",
        "model = Sequential()\n",
        "\n",
        "model.add(LSTM(units=50, return_sequences=True, input_shape=(x_train.shape[1], 1)))\n",
        "model.add(Dropout(0.2))\n",
        "\n",
        "model.add(LSTM(units=100, return_sequences=True))\n",
        "model.add(Dropout(0.2))\n",
        "\n",
        "\n",
        "model.add(LSTM(units=50))\n",
        "model.add(Dropout(0.2))\n",
        "\n",
        "model.add(Dense(10))\n",
        "\n",
        "opt = tf.keras.optimizers.Adam(lr=0.001, decay=1e-6)\n",
        "\n"
      ],
      "execution_count": 48,
      "outputs": [
        {
          "output_type": "stream",
          "text": [
            "/usr/local/lib/python3.7/dist-packages/keras/optimizer_v2/optimizer_v2.py:356: UserWarning: The `lr` argument is deprecated, use `learning_rate` instead.\n",
            "  \"The `lr` argument is deprecated, use `learning_rate` instead.\")\n"
          ],
          "name": "stderr"
        }
      ]
    },
    {
      "cell_type": "code",
      "metadata": {
        "colab": {
          "base_uri": "https://localhost:8080/"
        },
        "id": "zqII2_CanjOk",
        "outputId": "2722ba86-0a1b-4767-ef30-81e3b96d39b3"
      },
      "source": [
        "\n",
        "model.compile(optimizer=opt, loss='mean_squared_error', metrics=['accuracy'])\n",
        "history = model.fit(x_train, y_train, epochs=30, batch_size=32, validation_data=(x_test, y_test))\n",
        "\n",
        "\n"
      ],
      "execution_count": 52,
      "outputs": [
        {
          "output_type": "stream",
          "text": [
            "Epoch 1/30\n",
            "282/282 [==============================] - 10s 19ms/step - loss: 0.0137 - accuracy: 0.0528 - val_loss: 0.0028 - val_accuracy: 0.0000e+00\n",
            "Epoch 2/30\n",
            "282/282 [==============================] - 4s 15ms/step - loss: 0.0036 - accuracy: 0.0700 - val_loss: 0.0030 - val_accuracy: 0.0000e+00\n",
            "Epoch 3/30\n",
            "282/282 [==============================] - 4s 15ms/step - loss: 0.0025 - accuracy: 0.0662 - val_loss: 0.0016 - val_accuracy: 0.0000e+00\n",
            "Epoch 4/30\n",
            "282/282 [==============================] - 4s 15ms/step - loss: 0.0019 - accuracy: 0.0591 - val_loss: 4.7069e-05 - val_accuracy: 0.0000e+00\n",
            "Epoch 5/30\n",
            "282/282 [==============================] - 4s 15ms/step - loss: 0.0016 - accuracy: 0.0717 - val_loss: 1.5932e-04 - val_accuracy: 0.5564\n",
            "Epoch 6/30\n",
            "282/282 [==============================] - 4s 15ms/step - loss: 0.0013 - accuracy: 0.0723 - val_loss: 3.7840e-04 - val_accuracy: 0.0295\n",
            "Epoch 7/30\n",
            "282/282 [==============================] - 4s 15ms/step - loss: 0.0011 - accuracy: 0.0781 - val_loss: 9.9431e-05 - val_accuracy: 0.0000e+00\n",
            "Epoch 8/30\n",
            "282/282 [==============================] - 4s 15ms/step - loss: 9.4692e-04 - accuracy: 0.0716 - val_loss: 2.7797e-04 - val_accuracy: 0.0000e+00\n",
            "Epoch 9/30\n",
            "282/282 [==============================] - 4s 15ms/step - loss: 8.8778e-04 - accuracy: 0.0788 - val_loss: 0.0019 - val_accuracy: 0.0000e+00\n",
            "Epoch 10/30\n",
            "282/282 [==============================] - 4s 15ms/step - loss: 8.5197e-04 - accuracy: 0.0871 - val_loss: 4.2472e-05 - val_accuracy: 0.0000e+00\n",
            "Epoch 11/30\n",
            "282/282 [==============================] - 4s 15ms/step - loss: 7.7928e-04 - accuracy: 0.0783 - val_loss: 4.4906e-04 - val_accuracy: 1.0000\n",
            "Epoch 12/30\n",
            "282/282 [==============================] - 4s 15ms/step - loss: 7.2981e-04 - accuracy: 0.0924 - val_loss: 1.1764e-04 - val_accuracy: 0.0000e+00\n",
            "Epoch 13/30\n",
            "282/282 [==============================] - 4s 15ms/step - loss: 6.4689e-04 - accuracy: 0.0809 - val_loss: 1.7595e-05 - val_accuracy: 0.0000e+00\n",
            "Epoch 14/30\n",
            "282/282 [==============================] - 4s 15ms/step - loss: 6.1554e-04 - accuracy: 0.0843 - val_loss: 8.4287e-05 - val_accuracy: 0.0000e+00\n",
            "Epoch 15/30\n",
            "282/282 [==============================] - 4s 15ms/step - loss: 5.9734e-04 - accuracy: 0.0837 - val_loss: 4.4019e-04 - val_accuracy: 0.0000e+00\n",
            "Epoch 16/30\n",
            "282/282 [==============================] - 4s 15ms/step - loss: 5.8801e-04 - accuracy: 0.0880 - val_loss: 6.2065e-04 - val_accuracy: 0.0000e+00\n",
            "Epoch 17/30\n",
            "282/282 [==============================] - 4s 15ms/step - loss: 5.6817e-04 - accuracy: 0.1013 - val_loss: 0.0017 - val_accuracy: 0.0000e+00\n",
            "Epoch 18/30\n",
            "282/282 [==============================] - 4s 15ms/step - loss: 5.3509e-04 - accuracy: 0.1243 - val_loss: 0.0016 - val_accuracy: 0.0000e+00\n",
            "Epoch 19/30\n",
            "282/282 [==============================] - 4s 15ms/step - loss: 6.0199e-04 - accuracy: 0.1158 - val_loss: 1.4486e-04 - val_accuracy: 1.0000\n",
            "Epoch 20/30\n",
            "282/282 [==============================] - 4s 15ms/step - loss: 5.5621e-04 - accuracy: 0.1190 - val_loss: 0.0014 - val_accuracy: 0.0000e+00\n",
            "Epoch 21/30\n",
            "282/282 [==============================] - 4s 15ms/step - loss: 5.1907e-04 - accuracy: 0.1260 - val_loss: 1.4802e-05 - val_accuracy: 0.0000e+00\n",
            "Epoch 22/30\n",
            "282/282 [==============================] - 4s 15ms/step - loss: 5.4881e-04 - accuracy: 0.1513 - val_loss: 1.3725e-05 - val_accuracy: 0.0000e+00\n",
            "Epoch 23/30\n",
            "282/282 [==============================] - 4s 15ms/step - loss: 5.2031e-04 - accuracy: 0.1628 - val_loss: 8.7727e-04 - val_accuracy: 1.0000\n",
            "Epoch 24/30\n",
            "282/282 [==============================] - 4s 15ms/step - loss: 5.2400e-04 - accuracy: 0.1838 - val_loss: 0.0010 - val_accuracy: 1.0000\n",
            "Epoch 25/30\n",
            "282/282 [==============================] - 4s 15ms/step - loss: 5.1392e-04 - accuracy: 0.2152 - val_loss: 9.5159e-06 - val_accuracy: 1.0000\n",
            "Epoch 26/30\n",
            "282/282 [==============================] - 4s 15ms/step - loss: 5.2460e-04 - accuracy: 0.2574 - val_loss: 0.0020 - val_accuracy: 1.0000\n",
            "Epoch 27/30\n",
            "282/282 [==============================] - 4s 15ms/step - loss: 5.3758e-04 - accuracy: 0.2528 - val_loss: 4.1877e-05 - val_accuracy: 1.0000\n",
            "Epoch 28/30\n",
            "282/282 [==============================] - 4s 15ms/step - loss: 4.8824e-04 - accuracy: 0.2899 - val_loss: 5.5861e-06 - val_accuracy: 1.0000\n",
            "Epoch 29/30\n",
            "282/282 [==============================] - 4s 15ms/step - loss: 5.0559e-04 - accuracy: 0.3664 - val_loss: 9.2744e-05 - val_accuracy: 1.0000\n",
            "Epoch 30/30\n",
            "282/282 [==============================] - 4s 15ms/step - loss: 5.2361e-04 - accuracy: 0.4204 - val_loss: 4.0770e-04 - val_accuracy: 1.0000\n"
          ],
          "name": "stdout"
        }
      ]
    },
    {
      "cell_type": "code",
      "metadata": {
        "colab": {
          "base_uri": "https://localhost:8080/",
          "height": 279
        },
        "id": "AyTuxgjanrnV",
        "outputId": "e3babba1-ba26-4391-b95f-17af89d084c8"
      },
      "source": [
        "# predicting and plotting data\n",
        "prediction_prices = model.predict(x_test[:1])\n",
        "prediction_prices = scaler.inverse_transform(prediction_prices)\n",
        "# y_test = scaler.inverse_transform(y_test)\n",
        "\n",
        "plt.plot(y_test[0], color='red', label='Actual Prices')\n",
        "plt.plot(prediction_prices[0, :], color='yellow', label='Prediction Prices')\n",
        "# plt.plot(y_train, color='green', label='y_train')\n",
        "\n",
        "plt.xlabel(\"Time\")\n",
        "plt.ylabel(\"Price\")\n",
        "plt.legend(loc=\"upper left\")\n",
        "plt.show()"
      ],
      "execution_count": 90,
      "outputs": [
        {
          "output_type": "display_data",
          "data": {
            "image/png": "[encoded data removed]",
            "text/plain": [
              "<Figure size 432x288 with 1 Axes>"
            ]
          },
          "metadata": {
            "needs_background": "light"
          }
        }
      ]
    },
    {
      "cell_type": "code",
      "metadata": {
        "colab": {
          "base_uri": "https://localhost:8080/"
        },
        "id": "GxzEmdzCyim4",
        "outputId": "551e85e7-aa41-4c52-f6b8-3e6fd27cc860"
      },
      "source": [
        "y_test[0]"
      ],
      "execution_count": 87,
      "outputs": [
        {
          "output_type": "execute_result",
          "data": {
            "text/plain": [
              "array([9011., 9012., 9013., 9014., 9015., 9016., 9017., 9018., 9019.,\n",
              "       9020.])"
            ]
          },
          "metadata": {},
          "execution_count": 87
        }
      ]
    },
    {
      "cell_type": "code",
      "metadata": {
        "colab": {
          "base_uri": "https://localhost:8080/"
        },
        "id": "ieHyImWdynOy",
        "outputId": "be4b0373-0392-465c-91e5-f72361f67df7"
      },
      "source": [
        "prediction_prices[0, :]"
      ],
      "execution_count": 89,
      "outputs": [
        {
          "output_type": "execute_result",
          "data": {
            "text/plain": [
              "array([8843.375, 8843.164, 8841.926, 8845.821, 8844.853, 8845.494,\n",
              "       8845.406, 8849.889, 8848.676, 8852.171], dtype=float32)"
            ]
          },
          "metadata": {},
          "execution_count": 89
        }
      ]
    },
    {
      "cell_type": "code",
      "metadata": {
        "id": "A3ScXM5tyuv_"
      },
      "source": [
        ""
      ],
      "execution_count": null,
      "outputs": []
    }
  ]
}